{
 "cells": [
  {
   "cell_type": "code",
   "execution_count": 2,
   "metadata": {},
   "outputs": [],
   "source": [
    "import os\n",
    "import sys\n",
    "\n",
    "sys.path.insert(0, f'{os.environ.get(\"HOME\")}/workspace/recommendation-study')"
   ]
  },
  {
   "cell_type": "code",
   "execution_count": 5,
   "metadata": {},
   "outputs": [],
   "source": [
    "from util.data import DataLoader"
   ]
  },
  {
   "cell_type": "code",
   "execution_count": 29,
   "metadata": {},
   "outputs": [],
   "source": [
    "data_loader = DataLoader().load()\n",
    "\n",
    "train_df = data_loader.train\n",
    "test_df = data_loader.test"
   ]
  },
  {
   "cell_type": "code",
   "execution_count": 33,
   "metadata": {},
   "outputs": [
    {
     "name": "stdout",
     "output_type": "stream",
     "text": [
      "127830\n",
      "5000\n"
     ]
    },
    {
     "data": {
      "text/html": [
       "<div>\n",
       "<style scoped>\n",
       "    .dataframe tbody tr th:only-of-type {\n",
       "        vertical-align: middle;\n",
       "    }\n",
       "\n",
       "    .dataframe tbody tr th {\n",
       "        vertical-align: top;\n",
       "    }\n",
       "\n",
       "    .dataframe thead th {\n",
       "        text-align: right;\n",
       "    }\n",
       "</style>\n",
       "<table border=\"1\" class=\"dataframe\">\n",
       "  <thead>\n",
       "    <tr style=\"text-align: right;\">\n",
       "      <th></th>\n",
       "      <th>user_id</th>\n",
       "      <th>movie_id</th>\n",
       "      <th>rating</th>\n",
       "      <th>timestamp</th>\n",
       "      <th>title</th>\n",
       "      <th>genre</th>\n",
       "      <th>tag</th>\n",
       "      <th>rating_order</th>\n",
       "    </tr>\n",
       "  </thead>\n",
       "  <tbody>\n",
       "    <tr>\n",
       "      <th>1</th>\n",
       "      <td>139</td>\n",
       "      <td>122</td>\n",
       "      <td>3.0</td>\n",
       "      <td>974302621</td>\n",
       "      <td>Boomerang (1992)</td>\n",
       "      <td>[Comedy, Romance]</td>\n",
       "      <td>[dating, nudity (topless - brief), can't remem...</td>\n",
       "      <td>408.0</td>\n",
       "    </tr>\n",
       "    <tr>\n",
       "      <th>2</th>\n",
       "      <td>149</td>\n",
       "      <td>122</td>\n",
       "      <td>2.5</td>\n",
       "      <td>1112342322</td>\n",
       "      <td>Boomerang (1992)</td>\n",
       "      <td>[Comedy, Romance]</td>\n",
       "      <td>[dating, nudity (topless - brief), can't remem...</td>\n",
       "      <td>84.0</td>\n",
       "    </tr>\n",
       "    <tr>\n",
       "      <th>3</th>\n",
       "      <td>182</td>\n",
       "      <td>122</td>\n",
       "      <td>3.0</td>\n",
       "      <td>943458784</td>\n",
       "      <td>Boomerang (1992)</td>\n",
       "      <td>[Comedy, Romance]</td>\n",
       "      <td>[dating, nudity (topless - brief), can't remem...</td>\n",
       "      <td>1104.0</td>\n",
       "    </tr>\n",
       "    <tr>\n",
       "      <th>4</th>\n",
       "      <td>215</td>\n",
       "      <td>122</td>\n",
       "      <td>4.5</td>\n",
       "      <td>1102493547</td>\n",
       "      <td>Boomerang (1992)</td>\n",
       "      <td>[Comedy, Romance]</td>\n",
       "      <td>[dating, nudity (topless - brief), can't remem...</td>\n",
       "      <td>320.0</td>\n",
       "    </tr>\n",
       "    <tr>\n",
       "      <th>6</th>\n",
       "      <td>281</td>\n",
       "      <td>122</td>\n",
       "      <td>3.0</td>\n",
       "      <td>844437024</td>\n",
       "      <td>Boomerang (1992)</td>\n",
       "      <td>[Comedy, Romance]</td>\n",
       "      <td>[dating, nudity (topless - brief), can't remem...</td>\n",
       "      <td>42.0</td>\n",
       "    </tr>\n",
       "  </tbody>\n",
       "</table>\n",
       "</div>"
      ],
      "text/plain": [
       "   user_id  movie_id  rating   timestamp             title              genre  \\\n",
       "1      139       122     3.0   974302621  Boomerang (1992)  [Comedy, Romance]   \n",
       "2      149       122     2.5  1112342322  Boomerang (1992)  [Comedy, Romance]   \n",
       "3      182       122     3.0   943458784  Boomerang (1992)  [Comedy, Romance]   \n",
       "4      215       122     4.5  1102493547  Boomerang (1992)  [Comedy, Romance]   \n",
       "6      281       122     3.0   844437024  Boomerang (1992)  [Comedy, Romance]   \n",
       "\n",
       "                                                 tag  rating_order  \n",
       "1  [dating, nudity (topless - brief), can't remem...         408.0  \n",
       "2  [dating, nudity (topless - brief), can't remem...          84.0  \n",
       "3  [dating, nudity (topless - brief), can't remem...        1104.0  \n",
       "4  [dating, nudity (topless - brief), can't remem...         320.0  \n",
       "6  [dating, nudity (topless - brief), can't remem...          42.0  "
      ]
     },
     "execution_count": 33,
     "metadata": {},
     "output_type": "execute_result"
    }
   ],
   "source": [
    "print(len(train_df))\n",
    "print(len(test_df))\n",
    "train_df.head()"
   ]
  }
 ],
 "metadata": {
  "kernelspec": {
   "display_name": "recommendation-study-kt-Z5Mpg",
   "language": "python",
   "name": "python3"
  },
  "language_info": {
   "codemirror_mode": {
    "name": "ipython",
    "version": 3
   },
   "file_extension": ".py",
   "mimetype": "text/x-python",
   "name": "python",
   "nbconvert_exporter": "python",
   "pygments_lexer": "ipython3",
   "version": "3.9.9"
  },
  "orig_nbformat": 4
 },
 "nbformat": 4,
 "nbformat_minor": 2
}
