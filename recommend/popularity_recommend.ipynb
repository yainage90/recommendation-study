{
 "cells": [
  {
   "cell_type": "code",
   "execution_count": 1,
   "metadata": {},
   "outputs": [],
   "source": [
    "import os\n",
    "import sys\n",
    "\n",
    "sys.path.insert(0, f'{os.environ.get(\"HOME\")}/workspace/recommendation-study')"
   ]
  },
  {
   "cell_type": "code",
   "execution_count": 2,
   "metadata": {},
   "outputs": [],
   "source": [
    "from collections import defaultdict\n",
    "import numpy as np\n",
    "from util.models import Dataset, RecommendResult\n",
    "from base import BaseRecommender\n",
    "\n",
    "np.random.seed(0)"
   ]
  },
  {
   "cell_type": "code",
   "execution_count": 11,
   "metadata": {},
   "outputs": [],
   "source": [
    "class PopularityRecommender(BaseRecommender):\n",
    "    def recommend(self, dataset: Dataset, k: int, **kwargs):\n",
    "        min_rating_size = kwargs.get('min_rating_size', 200)\n",
    "\n",
    "        rating_average = dataset.train.groupby('movie_id').agg({'rating': np.mean})\n",
    "        test_df = dataset.test.copy()\n",
    "        test_df = test_df.merge(rating_average, on='movie_id', how='left', suffixes=('_test', '_pred')).fillna(0)\n",
    "\n",
    "        pred_user2items = defaultdict(list)\n",
    "        user_watched_movies = dataset.train.groupby('user_id').agg({'movie_id': list})['movie_id'].to_dict()\n",
    "\n",
    "        movie_stats = dataset.train.groupby('movie_id').agg({'rating': [np.size, np.mean]})\n",
    "        at_least = movie_stats['rating']['size'] >= min_rating_size\n",
    "\n",
    "        movies_sortedby_rating = movie_stats[at_least].sort_values(by=('rating', 'mean'), ascending=False).index.to_list()\n",
    "\n",
    "        user_ids = dataset.train.user_id.unique()\n",
    "        for user_id in user_ids:\n",
    "            for movie_id in movies_sortedby_rating:\n",
    "                if movie_id not in user_watched_movies[user_id]:\n",
    "                    pred_user2items[user_id].append(movie_id)\n",
    "                if len(pred_user2items[user_id]) >= k:\n",
    "                    break\n",
    "\n",
    "        return RecommendResult(rating=test_df.rating_pred, user2items=pred_user2items)\n"
   ]
  },
  {
   "cell_type": "code",
   "execution_count": 12,
   "metadata": {},
   "outputs": [
    {
     "name": "stdout",
     "output_type": "stream",
     "text": [
      "rmse: 1.082, precision@K: 0.012, recall@K: 0.039\n"
     ]
    }
   ],
   "source": [
    "metrics = PopularityRecommender().run_sample()\n",
    "print(metrics)"
   ]
  }
 ],
 "metadata": {
  "kernelspec": {
   "display_name": "recommendation-study-kt-Z5Mpg",
   "language": "python",
   "name": "python3"
  },
  "language_info": {
   "codemirror_mode": {
    "name": "ipython",
    "version": 3
   },
   "file_extension": ".py",
   "mimetype": "text/x-python",
   "name": "python",
   "nbconvert_exporter": "python",
   "pygments_lexer": "ipython3",
   "version": "3.9.9"
  },
  "orig_nbformat": 4
 },
 "nbformat": 4,
 "nbformat_minor": 2
}
