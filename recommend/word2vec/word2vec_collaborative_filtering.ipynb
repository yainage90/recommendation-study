{
 "cells": [
  {
   "cell_type": "code",
   "execution_count": 1,
   "metadata": {},
   "outputs": [],
   "source": [
    "import os\n",
    "import sys\n",
    "\n",
    "sys.path.insert(0, f'{os.environ.get(\"HOME\")}/workspace/recommendation-study')"
   ]
  },
  {
   "cell_type": "code",
   "execution_count": 2,
   "metadata": {},
   "outputs": [],
   "source": [
    "from util.data import DataLoader\n",
    "\n",
    "dataset = DataLoader().load()"
   ]
  },
  {
   "cell_type": "code",
   "execution_count": 3,
   "metadata": {},
   "outputs": [],
   "source": [
    "from util.models import RecommendResult, Metrics\n",
    "from recommend.base import BaseRecommender\n",
    "import numpy as np\n",
    "import gensim"
   ]
  },
  {
   "cell_type": "code",
   "execution_count": 4,
   "metadata": {},
   "outputs": [],
   "source": [
    "np.random.seed(0)"
   ]
  },
  {
   "cell_type": "code",
   "execution_count": 7,
   "metadata": {},
   "outputs": [],
   "source": [
    "\n",
    "from util.models import Dataset, RecommendResult\n",
    "\n",
    "\n",
    "class Word2VecCollaborativeFilteringRecommender(BaseRecommender):\n",
    "    def recommend(self, dataset: Dataset, k: int, **kwargs) -> RecommendResult:\n",
    "        vector_size = kwargs.get('vector_size', 128)\n",
    "        n_epochs = kwargs.get('n_epochs', 50)\n",
    "        window_size = kwargs.get('window_size', 30)\n",
    "        skip_gram = kwargs.get('skip_gram', 1)\n",
    "        use_hierarchial_softmax = kwargs.get('use_hierarchial_softmax', 0)\n",
    "        min_count = kwargs.get('min_count', 5)\n",
    "\n",
    "        high_rating = dataset.train[dataset.train.rating >= 4]\n",
    "        item2vec_data = []\n",
    "        for user_id, data in high_rating.groupby('user_id'):\n",
    "            item2vec_data.append(data.sort_values('timestamp')['movie_id'].tolist())\n",
    "\n",
    "        model = gensim.models.Word2Vec(\n",
    "            sentences=item2vec_data,\n",
    "            vector_size=vector_size,\n",
    "            epochs=n_epochs,\n",
    "            window=window_size,\n",
    "            sg=skip_gram,\n",
    "            hs=use_hierarchial_softmax,\n",
    "            min_count=min_count,\n",
    "        )\n",
    "\n",
    "        vocabs = set(model.wv.key_to_index.keys())\n",
    "\n",
    "        pred_user2items = {}\n",
    "        for user_id, data in high_rating.groupby('user_id'):\n",
    "            input_data = []\n",
    "            for item_id in data.sort_values('timestamp')['movie_id'].tolist():\n",
    "                if item_id in vocabs:\n",
    "                    input_data.append(item_id)\n",
    "            if input_data:\n",
    "                most_similars = model.wv.most_similar(input_data, topn=k)\n",
    "                recommend_items = [s[0] for s in most_similars]\n",
    "            else:\n",
    "                recommend_items = []\n",
    "\n",
    "            pred_user2items[user_id] = recommend_items\n",
    "\n",
    "        return RecommendResult(dataset.test.rating, pred_user2items)"
   ]
  },
  {
   "cell_type": "code",
   "execution_count": 8,
   "metadata": {},
   "outputs": [
    {
     "name": "stdout",
     "output_type": "stream",
     "text": [
      "rmse: 0.000, precision@K: 0.000, recall@K: 0.000\n"
     ]
    }
   ],
   "source": [
    "recommender = Word2VecCollaborativeFilteringRecommender()\n",
    "metrics = recommender.run_sample()\n",
    "print(metrics)"
   ]
  }
 ],
 "metadata": {
  "kernelspec": {
   "display_name": "recommendation-study-kt-Z5Mpg",
   "language": "python",
   "name": "python3"
  },
  "language_info": {
   "codemirror_mode": {
    "name": "ipython",
    "version": 3
   },
   "file_extension": ".py",
   "mimetype": "text/x-python",
   "name": "python",
   "nbconvert_exporter": "python",
   "pygments_lexer": "ipython3",
   "version": "3.9.9"
  },
  "orig_nbformat": 4
 },
 "nbformat": 4,
 "nbformat_minor": 2
}
