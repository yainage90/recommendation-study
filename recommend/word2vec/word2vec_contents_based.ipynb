{
 "cells": [
  {
   "cell_type": "code",
   "execution_count": 1,
   "metadata": {},
   "outputs": [],
   "source": [
    "import os\n",
    "import sys\n",
    "\n",
    "sys.path.insert(0, f'{os.environ.get(\"HOME\")}/workspace/recommendation-study')"
   ]
  },
  {
   "cell_type": "code",
   "execution_count": 5,
   "metadata": {},
   "outputs": [],
   "source": [
    "from util.data import DataLoader\n",
    "\n",
    "dataset = DataLoader().load()"
   ]
  },
  {
   "cell_type": "code",
   "execution_count": 6,
   "metadata": {},
   "outputs": [
    {
     "data": {
      "text/html": [
       "<div>\n",
       "<style scoped>\n",
       "    .dataframe tbody tr th:only-of-type {\n",
       "        vertical-align: middle;\n",
       "    }\n",
       "\n",
       "    .dataframe tbody tr th {\n",
       "        vertical-align: top;\n",
       "    }\n",
       "\n",
       "    .dataframe thead th {\n",
       "        text-align: right;\n",
       "    }\n",
       "</style>\n",
       "<table border=\"1\" class=\"dataframe\">\n",
       "  <thead>\n",
       "    <tr style=\"text-align: right;\">\n",
       "      <th></th>\n",
       "      <th>movie_id</th>\n",
       "      <th>title</th>\n",
       "      <th>genre</th>\n",
       "      <th>tag</th>\n",
       "    </tr>\n",
       "  </thead>\n",
       "  <tbody>\n",
       "    <tr>\n",
       "      <th>0</th>\n",
       "      <td>1</td>\n",
       "      <td>Toy Story (1995)</td>\n",
       "      <td>[Adventure, Animation, Children, Comedy, Fantasy]</td>\n",
       "      <td>[pixar, pixar, pixar, animation, pixar, animat...</td>\n",
       "    </tr>\n",
       "    <tr>\n",
       "      <th>1</th>\n",
       "      <td>2</td>\n",
       "      <td>Jumanji (1995)</td>\n",
       "      <td>[Adventure, Children, Fantasy]</td>\n",
       "      <td>[for children, game, animals, joe johnston, ro...</td>\n",
       "    </tr>\n",
       "    <tr>\n",
       "      <th>2</th>\n",
       "      <td>3</td>\n",
       "      <td>Grumpier Old Men (1995)</td>\n",
       "      <td>[Comedy, Romance]</td>\n",
       "      <td>[funniest movies, comedinha de velhinhos engra...</td>\n",
       "    </tr>\n",
       "    <tr>\n",
       "      <th>3</th>\n",
       "      <td>4</td>\n",
       "      <td>Waiting to Exhale (1995)</td>\n",
       "      <td>[Comedy, Drama, Romance]</td>\n",
       "      <td>[girl movie]</td>\n",
       "    </tr>\n",
       "    <tr>\n",
       "      <th>4</th>\n",
       "      <td>5</td>\n",
       "      <td>Father of the Bride Part II (1995)</td>\n",
       "      <td>[Comedy]</td>\n",
       "      <td>[steve martin, pregnancy, remake, steve martin...</td>\n",
       "    </tr>\n",
       "  </tbody>\n",
       "</table>\n",
       "</div>"
      ],
      "text/plain": [
       "   movie_id  ...                                                tag\n",
       "0         1  ...  [pixar, pixar, pixar, animation, pixar, animat...\n",
       "1         2  ...  [for children, game, animals, joe johnston, ro...\n",
       "2         3  ...  [funniest movies, comedinha de velhinhos engra...\n",
       "3         4  ...                                       [girl movie]\n",
       "4         5  ...  [steve martin, pregnancy, remake, steve martin...\n",
       "\n",
       "[5 rows x 4 columns]"
      ]
     },
     "execution_count": 6,
     "metadata": {},
     "output_type": "execute_result"
    }
   ],
   "source": [
    "movie_content = dataset.item_content\n",
    "movie_content.head()"
   ]
  },
  {
   "cell_type": "code",
   "execution_count": 22,
   "metadata": {},
   "outputs": [
    {
     "ename": "AttributeError",
     "evalue": "'set' object has no attribute 'lowercase'",
     "output_type": "error",
     "traceback": [
      "\u001b[0;31m---------------------------------------------------------------------------\u001b[0m",
      "\u001b[0;31mAttributeError\u001b[0m                            Traceback (most recent call last)",
      "Cell \u001b[0;32mIn[22], line 6\u001b[0m\n\u001b[1;32m      4\u001b[0m movie_content[\u001b[39m'\u001b[39m\u001b[39mtag_genre\u001b[39m\u001b[39m'\u001b[39m] \u001b[39m=\u001b[39m (movie_content[\u001b[39m'\u001b[39m\u001b[39mtag\u001b[39m\u001b[39m'\u001b[39m]\u001b[39m.\u001b[39mfillna(\u001b[39m'\u001b[39m\u001b[39m'\u001b[39m)\u001b[39m.\u001b[39mapply(\u001b[39mlist\u001b[39m) \u001b[39m+\u001b[39m movie_content[\u001b[39m'\u001b[39m\u001b[39mgenre\u001b[39m\u001b[39m'\u001b[39m]\u001b[39m.\u001b[39mfillna(\u001b[39m'\u001b[39m\u001b[39m'\u001b[39m)\u001b[39m.\u001b[39mapply(\u001b[39mlist\u001b[39m))\n\u001b[1;32m      5\u001b[0m movie_content[\u001b[39m'\u001b[39m\u001b[39mtag_genre\u001b[39m\u001b[39m'\u001b[39m] \u001b[39m=\u001b[39m movie_content[\u001b[39m'\u001b[39m\u001b[39mtag_genre\u001b[39m\u001b[39m'\u001b[39m]\u001b[39m.\u001b[39mapply(\u001b[39mlambda\u001b[39;00m x: \u001b[39mset\u001b[39m(\u001b[39mmap\u001b[39m(\u001b[39mstr\u001b[39m, x)))\n\u001b[0;32m----> 6\u001b[0m movie_content[\u001b[39m'\u001b[39m\u001b[39mtag_genre\u001b[39m\u001b[39m'\u001b[39m] \u001b[39m=\u001b[39m movie_content[\u001b[39m'\u001b[39;49m\u001b[39mtag_genre\u001b[39;49m\u001b[39m'\u001b[39;49m]\u001b[39m.\u001b[39;49mapply(\u001b[39mlambda\u001b[39;49;00m x: x\u001b[39m.\u001b[39;49mlowercase())\n\u001b[1;32m      8\u001b[0m tag_genre_data \u001b[39m=\u001b[39m movie_content\u001b[39m.\u001b[39mtag_genre\u001b[39m.\u001b[39mto_list()\n\u001b[1;32m      9\u001b[0m tag_genre_data\n",
      "File \u001b[0;32m~/.local/share/virtualenvs/recommendation-study-kt-Z5Mpg/lib/python3.9/site-packages/pandas/core/series.py:4630\u001b[0m, in \u001b[0;36mSeries.apply\u001b[0;34m(self, func, convert_dtype, args, **kwargs)\u001b[0m\n\u001b[1;32m   4520\u001b[0m \u001b[39mdef\u001b[39;00m \u001b[39mapply\u001b[39m(\n\u001b[1;32m   4521\u001b[0m     \u001b[39mself\u001b[39m,\n\u001b[1;32m   4522\u001b[0m     func: AggFuncType,\n\u001b[0;32m   (...)\u001b[0m\n\u001b[1;32m   4525\u001b[0m     \u001b[39m*\u001b[39m\u001b[39m*\u001b[39mkwargs,\n\u001b[1;32m   4526\u001b[0m ) \u001b[39m-\u001b[39m\u001b[39m>\u001b[39m DataFrame \u001b[39m|\u001b[39m Series:\n\u001b[1;32m   4527\u001b[0m \u001b[39m    \u001b[39m\u001b[39m\"\"\"\u001b[39;00m\n\u001b[1;32m   4528\u001b[0m \u001b[39m    Invoke function on values of Series.\u001b[39;00m\n\u001b[1;32m   4529\u001b[0m \n\u001b[0;32m   (...)\u001b[0m\n\u001b[1;32m   4628\u001b[0m \u001b[39m    dtype: float64\u001b[39;00m\n\u001b[1;32m   4629\u001b[0m \u001b[39m    \"\"\"\u001b[39;00m\n\u001b[0;32m-> 4630\u001b[0m     \u001b[39mreturn\u001b[39;00m SeriesApply(\u001b[39mself\u001b[39;49m, func, convert_dtype, args, kwargs)\u001b[39m.\u001b[39;49mapply()\n",
      "File \u001b[0;32m~/.local/share/virtualenvs/recommendation-study-kt-Z5Mpg/lib/python3.9/site-packages/pandas/core/apply.py:1025\u001b[0m, in \u001b[0;36mSeriesApply.apply\u001b[0;34m(self)\u001b[0m\n\u001b[1;32m   1022\u001b[0m     \u001b[39mreturn\u001b[39;00m \u001b[39mself\u001b[39m\u001b[39m.\u001b[39mapply_str()\n\u001b[1;32m   1024\u001b[0m \u001b[39m# self.f is Callable\u001b[39;00m\n\u001b[0;32m-> 1025\u001b[0m \u001b[39mreturn\u001b[39;00m \u001b[39mself\u001b[39;49m\u001b[39m.\u001b[39;49mapply_standard()\n",
      "File \u001b[0;32m~/.local/share/virtualenvs/recommendation-study-kt-Z5Mpg/lib/python3.9/site-packages/pandas/core/apply.py:1076\u001b[0m, in \u001b[0;36mSeriesApply.apply_standard\u001b[0;34m(self)\u001b[0m\n\u001b[1;32m   1074\u001b[0m     \u001b[39melse\u001b[39;00m:\n\u001b[1;32m   1075\u001b[0m         values \u001b[39m=\u001b[39m obj\u001b[39m.\u001b[39mastype(\u001b[39mobject\u001b[39m)\u001b[39m.\u001b[39m_values\n\u001b[0;32m-> 1076\u001b[0m         mapped \u001b[39m=\u001b[39m lib\u001b[39m.\u001b[39;49mmap_infer(\n\u001b[1;32m   1077\u001b[0m             values,\n\u001b[1;32m   1078\u001b[0m             f,\n\u001b[1;32m   1079\u001b[0m             convert\u001b[39m=\u001b[39;49m\u001b[39mself\u001b[39;49m\u001b[39m.\u001b[39;49mconvert_dtype,\n\u001b[1;32m   1080\u001b[0m         )\n\u001b[1;32m   1082\u001b[0m \u001b[39mif\u001b[39;00m \u001b[39mlen\u001b[39m(mapped) \u001b[39mand\u001b[39;00m \u001b[39misinstance\u001b[39m(mapped[\u001b[39m0\u001b[39m], ABCSeries):\n\u001b[1;32m   1083\u001b[0m     \u001b[39m# GH#43986 Need to do list(mapped) in order to get treated as nested\u001b[39;00m\n\u001b[1;32m   1084\u001b[0m     \u001b[39m#  See also GH#25959 regarding EA support\u001b[39;00m\n\u001b[1;32m   1085\u001b[0m     \u001b[39mreturn\u001b[39;00m obj\u001b[39m.\u001b[39m_constructor_expanddim(\u001b[39mlist\u001b[39m(mapped), index\u001b[39m=\u001b[39mobj\u001b[39m.\u001b[39mindex)\n",
      "File \u001b[0;32m~/.local/share/virtualenvs/recommendation-study-kt-Z5Mpg/lib/python3.9/site-packages/pandas/_libs/lib.pyx:2834\u001b[0m, in \u001b[0;36mpandas._libs.lib.map_infer\u001b[0;34m()\u001b[0m\n",
      "Cell \u001b[0;32mIn[22], line 6\u001b[0m, in \u001b[0;36m<lambda>\u001b[0;34m(x)\u001b[0m\n\u001b[1;32m      4\u001b[0m movie_content[\u001b[39m'\u001b[39m\u001b[39mtag_genre\u001b[39m\u001b[39m'\u001b[39m] \u001b[39m=\u001b[39m (movie_content[\u001b[39m'\u001b[39m\u001b[39mtag\u001b[39m\u001b[39m'\u001b[39m]\u001b[39m.\u001b[39mfillna(\u001b[39m'\u001b[39m\u001b[39m'\u001b[39m)\u001b[39m.\u001b[39mapply(\u001b[39mlist\u001b[39m) \u001b[39m+\u001b[39m movie_content[\u001b[39m'\u001b[39m\u001b[39mgenre\u001b[39m\u001b[39m'\u001b[39m]\u001b[39m.\u001b[39mfillna(\u001b[39m'\u001b[39m\u001b[39m'\u001b[39m)\u001b[39m.\u001b[39mapply(\u001b[39mlist\u001b[39m))\n\u001b[1;32m      5\u001b[0m movie_content[\u001b[39m'\u001b[39m\u001b[39mtag_genre\u001b[39m\u001b[39m'\u001b[39m] \u001b[39m=\u001b[39m movie_content[\u001b[39m'\u001b[39m\u001b[39mtag_genre\u001b[39m\u001b[39m'\u001b[39m]\u001b[39m.\u001b[39mapply(\u001b[39mlambda\u001b[39;00m x: \u001b[39mset\u001b[39m(\u001b[39mmap\u001b[39m(\u001b[39mstr\u001b[39m, x)))\n\u001b[0;32m----> 6\u001b[0m movie_content[\u001b[39m'\u001b[39m\u001b[39mtag_genre\u001b[39m\u001b[39m'\u001b[39m] \u001b[39m=\u001b[39m movie_content[\u001b[39m'\u001b[39m\u001b[39mtag_genre\u001b[39m\u001b[39m'\u001b[39m]\u001b[39m.\u001b[39mapply(\u001b[39mlambda\u001b[39;00m x: x\u001b[39m.\u001b[39;49mlowercase())\n\u001b[1;32m      8\u001b[0m tag_genre_data \u001b[39m=\u001b[39m movie_content\u001b[39m.\u001b[39mtag_genre\u001b[39m.\u001b[39mto_list()\n\u001b[1;32m      9\u001b[0m tag_genre_data\n",
      "\u001b[0;31mAttributeError\u001b[0m: 'set' object has no attribute 'lowercase'"
     ]
    }
   ],
   "source": [
    "import gensim\n",
    "import logging\n",
    "\n",
    "movie_content['tag_genre'] = (movie_content['tag'].fillna('').apply(list) + movie_content['genre'].fillna('').apply(list))\n",
    "movie_content['tag_genre'] = movie_content['tag_genre'].apply(lambda x: set(map(str, x)))\n",
    "\n",
    "tag_genre_data = movie_content.tag_genre.to_list()\n",
    "tag_genre_data"
   ]
  },
  {
   "cell_type": "code",
   "execution_count": 11,
   "metadata": {},
   "outputs": [],
   "source": [
    "model = gensim.models.Word2Vec(\n",
    "    sentences=tag_genre_data,\n",
    "    vector_size=128,\n",
    "    window=20,\n",
    "    min_count=5,\n",
    "    sg=1,\n",
    "    hs=0,\n",
    "    epochs=50,\n",
    "    max_vocab_size=20000,\n",
    ")"
   ]
  },
  {
   "cell_type": "code",
   "execution_count": 19,
   "metadata": {},
   "outputs": [
    {
     "name": "stdout",
     "output_type": "stream",
     "text": [
      "[('Animation', 0.7461240887641907), ('disney animated feature', 0.6757231950759888), ('computer animation', 0.6688820719718933), ('animated', 0.668407142162323), ('saturn award (best animated film)', 0.6290363669395447)]\n",
      "[('animation', 0.6688820719718933), ('Animation', 0.6275290846824646), ('pixar animation', 0.6039371490478516), ('cgi', 0.600204348564148), ('kids and family', 0.5935038924217224)]\n"
     ]
    }
   ],
   "source": [
    "print(model.wv.most_similar('animation', topn=5))\n",
    "print(model.wv.most_similar('computer animation', topn=5))"
   ]
  }
 ],
 "metadata": {
  "kernelspec": {
   "display_name": "recommendation-study-kt-Z5Mpg",
   "language": "python",
   "name": "python3"
  },
  "language_info": {
   "codemirror_mode": {
    "name": "ipython",
    "version": 3
   },
   "file_extension": ".py",
   "mimetype": "text/x-python",
   "name": "python",
   "nbconvert_exporter": "python",
   "pygments_lexer": "ipython3",
   "version": "3.9.9"
  },
  "orig_nbformat": 4
 },
 "nbformat": 4,
 "nbformat_minor": 2
}
