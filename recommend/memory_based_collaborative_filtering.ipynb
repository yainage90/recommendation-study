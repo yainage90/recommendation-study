{
 "cells": [
  {
   "cell_type": "code",
   "execution_count": 1,
   "metadata": {},
   "outputs": [],
   "source": [
    "import os\n",
    "import sys\n",
    "\n",
    "sys.path.insert(0, f'{os.environ.get(\"HOME\")}/workspace/recommendation-study')"
   ]
  },
  {
   "cell_type": "code",
   "execution_count": 2,
   "metadata": {},
   "outputs": [],
   "source": [
    "from util.data import DataLoader\n",
    "\n",
    "dataset = DataLoader().load()"
   ]
  },
  {
   "cell_type": "markdown",
   "metadata": {},
   "source": [
    "### 메모리 기반 협업 필터링\n",
    "\n",
    "1. 기존의 평가값들을 사용해 사용자 사이의 유사도를 계산\n",
    "2. 기호가 비슷한(유사도가 큰) 유저가 이미 평가한 아이템들을 사용해 사용자의 예측 평가값을 계산해서 채워넣는다\n",
    "3. 예측 평가값이 높은 후보들을 추천한다"
   ]
  },
  {
   "cell_type": "code",
   "execution_count": 3,
   "metadata": {},
   "outputs": [],
   "source": [
    "import numpy as np\n",
    "\n",
    "# 피어슨 유사도 함수\n",
    "def pearson_coefficient(u: np.ndarray, v: np.ndarray):\n",
    "    u_diff = u - np.mean(u)\n",
    "    v_diff = v - np.mean(v)\n",
    "\n",
    "    u_len = np.sqrt(np.sum(u_diff ** 2))\n",
    "    v_len = np.sqrt(np.sum(v_diff ** 2))\n",
    "\n",
    "    if u_len == 0 or v_len == 0:\n",
    "        return 0\n",
    "\n",
    "    return np.dot(u_diff, v_diff) / (u_len * v_len)"
   ]
  },
  {
   "cell_type": "code",
   "execution_count": 10,
   "metadata": {},
   "outputs": [],
   "source": [
    "user_movie_matrix = dataset.train.pivot(index='user_id', columns='movie_id', values='rating')\n",
    "user_id2index = {user_id: index for index, user_id in enumerate(user_movie_matrix.index)}\n",
    "movie_id2index = {movie_id: index for index, movie_id in enumerate(user_movie_matrix.columns)}\n",
    "\n",
    "movie_rating_predict = dataset.test.copy()\n",
    "\n",
    "test_user_ids = movie_rating_predict.user_id.unique()\n",
    "\n",
    "for user1_id in test_user_ids:\n",
    "    similar_users = []\n",
    "    similarities = []\n",
    "    avgs = []\n",
    "\n",
    "    # 성향이 비슷한 사용자 구하기\n",
    "    for user2_id in user_movie_matrix.index:\n",
    "        if user1_id == user2_id:\n",
    "            continue\n",
    "\n",
    "        user1_vector = user_movie_matrix.loc[user1_id, :].to_numpy()\n",
    "        user2_vector = user_movie_matrix.loc[user2_id, :].to_numpy()\n",
    "\n",
    "        common_evaluations = ~np.isnan(user1_vector) & ~np.isnan(user2_vector)\n",
    "\n",
    "        if not common_evaluations.any():\n",
    "            continue\n",
    "\n",
    "        user1_vector = user1_vector[common_evaluations]\n",
    "        user2_vector = user2_vector[common_evaluations]\n",
    "\n",
    "        similarity = pearson_coefficient(user1_vector, user2_vector)\n",
    "\n",
    "        if similarity > 0:\n",
    "            similar_users.append(user2_id)\n",
    "            similarities.append(similarity)\n",
    "            avgs.append(np.mean(user2_vector))\n",
    "    \n",
    "    # 유저의 평가 평균값으로 미리 predict를 채워넣음\n",
    "    user1_avg = np.mean(user_movie_matrix.loc[user1_id, :].dropna().to_numpy())\n",
    "    movie_rating_predict.loc[(movie_rating_predict['user_id'] == user1_id), 'rating_pred'] = user1_avg\n",
    "\n",
    "    test_movie_ids = movie_rating_predict[movie_rating_predict['user_id'] == user1_id].movie_id.values\n",
    "\n",
    "    if similar_users:\n",
    "        for movie_id in test_movie_ids:\n",
    "            if movie_id in movie_id2index:\n",
    "                similar_user_ratings = user_movie_matrix.loc[similar_users, movie_id].to_numpy()\n",
    "                exists = ~np.isnan(similar_user_ratings)\n",
    "\n",
    "                if not exists.any():\n",
    "                    continue\n",
    "\n",
    "                exist_ratings = similar_user_ratings[exists]\n",
    "                exist_similarities = np.array(similarities)[exists]\n",
    "                exist_averages = np.array(avgs)[exists]\n",
    "\n",
    "                pred = user1_avg + np.dot(exist_similarities, (exist_ratings - exist_averages)) / np.sum(exist_similarities)\n",
    "\n",
    "                movie_rating_predict.loc[(movie_rating_predict['user_id'] == user1_id) & (movie_rating_predict['movie_id'] == movie_id), 'rating_pred'] = pred"
   ]
  },
  {
   "cell_type": "code",
   "execution_count": 13,
   "metadata": {},
   "outputs": [
    {
     "name": "stdout",
     "output_type": "stream",
     "text": [
      "<surprise.trainset.Trainset object at 0x137537cd0>\n"
     ]
    }
   ],
   "source": [
    "from collections import defaultdict\n",
    "from util.models import Dataset, RecommendResult\n",
    "from base import BaseRecommender\n",
    "from surprise import KNNWithMeans, Reader\n",
    "from surprise import Dataset as SurpriseDataset\n",
    "\n",
    "np.random.seed(0)\n",
    "\n",
    "reader = Reader(rating_scale=(0.5, 5))\n",
    "data_train = SurpriseDataset.load_from_df(\n",
    "    dataset.train[['user_id', 'movie_id', 'rating']], reader\n",
    ").build_full_trainset()\n",
    "\n",
    "print(data_train)"
   ]
  },
  {
   "cell_type": "code",
   "execution_count": 33,
   "metadata": {},
   "outputs": [],
   "source": [
    "\n",
    "        \n",
    "class UMCFRecommender(BaseRecommender):\n",
    "\n",
    "    def __init__(self):\n",
    "        reader = Reader(rating_scale=(0.5, 5))\n",
    "        data_train = SurpriseDataset.load_from_df(\n",
    "            dataset.train[['user_id', 'movie_id', 'rating']], reader\n",
    "        ).build_full_trainset()\n",
    "\n",
    "        sim_options = {\n",
    "            'name': 'pearson',\n",
    "            'user_based': True,\n",
    "        }\n",
    "\n",
    "        self.knn = KNNWithMeans(k=30, min_k=1, sim_options=sim_options)\n",
    "        self.knn.fit(data_train)\n",
    "\n",
    "        data_test = data_train.build_anti_testset(None)\n",
    "        self.predictions = self.knn.test(data_test)\n",
    "\n",
    "    def recommend(self, dataset: Dataset, k: int, **kwargs) -> RecommendResult:\n",
    "        user_movie_matrix = dataset.train.pivot(index='user_id', columns='movie_id', values='rating')\n",
    "        user_id2index = {user_id: index for index, user_id in enumerate(user_movie_matrix.index)}\n",
    "        movie_id2index = {movie_id: index for index, movie_id in enumerate(user_movie_matrix.columns)}\n",
    "\n",
    "        movie_rating_predict = dataset.test.copy()\n",
    "        pred_user2items = defaultdict(list)\n",
    "\n",
    "        stats = dataset.train.groupby('movie_id').agg({'rating': [np.size, np.mean]})\n",
    "        at_least = stats['rating']['size'] >= kwargs.get('min_rating_size', 200)\n",
    "        at_least_movie_ids = set(stats[at_least].index.to_list())\n",
    "\n",
    "        def get_top_n(predictions, n=10):\n",
    "            top_n = defaultdict(list)\n",
    "            for uid, iid, true_r, est, _ in predictions:\n",
    "                if iid in at_least_movie_ids:\n",
    "                    top_n[uid].append((iid, est))\n",
    "\n",
    "            for uid, user_ratings in top_n.items():\n",
    "                user_ratings.sort(key=lambda x: x[1], reverse=True)\n",
    "                top_n[uid] = [d[0] for d in user_ratings[:n]]\n",
    "\n",
    "            return top_n\n",
    "\n",
    "        pred_user2items = get_top_n(self.predictions, n=10)\n",
    "\n",
    "        average_score = dataset.train.rating.mean()\n",
    "        pred_results = []\n",
    "        for _, row in dataset.test.iterrows():\n",
    "            user_id = row['user_id']\n",
    "            movie_id = row['movie_id']\n",
    "\n",
    "            if user_id not in user_id2index or movie_id not in movie_id2index:\n",
    "                pred_results.append(average_score)\n",
    "                continue\n",
    "\n",
    "            pred_score = self.knn.predict(user_id, movie_id).est\n",
    "            pred_results.append(pred_score)\n",
    "\n",
    "        movie_rating_predict['rating_pred'] = pred_results\n",
    "\n",
    "        return RecommendResult(movie_rating_predict.rating_pred, pred_user2items)"
   ]
  },
  {
   "cell_type": "code",
   "execution_count": 34,
   "metadata": {},
   "outputs": [
    {
     "name": "stdout",
     "output_type": "stream",
     "text": [
      "Computing the pearson similarity matrix...\n",
      "Done computing similarity matrix.\n",
      "min_rating_size=0 => rmse: 0.962, precision@K: 0.002, recall@K: 0.004\n",
      "min_rating_size=100 => rmse: 0.962, precision@K: 0.009, recall@K: 0.027\n",
      "min_rating_size=200 => rmse: 0.962, precision@K: 0.013, recall@K: 0.041\n",
      "min_rating_size=300 => rmse: 0.962, precision@K: 0.015, recall@K: 0.050\n"
     ]
    }
   ],
   "source": [
    "recommender = UMCFRecommender()\n",
    "for min_rating_size in (0, 100, 200, 300):\n",
    "    metrics = recommender.run_sample(min_rating_size=min_rating_size)\n",
    "    print(f'min_rating_size={min_rating_size} => {metrics}')"
   ]
  },
  {
   "cell_type": "markdown",
   "metadata": {},
   "source": [
    "일정 수 이상 평가된 영화로 제한하면 precision, recall이 좋아짐.(점점 다양성은 줄어듦)"
   ]
  }
 ],
 "metadata": {
  "kernelspec": {
   "display_name": "recommendation-study-kt-Z5Mpg",
   "language": "python",
   "name": "python3"
  },
  "language_info": {
   "codemirror_mode": {
    "name": "ipython",
    "version": 3
   },
   "file_extension": ".py",
   "mimetype": "text/x-python",
   "name": "python",
   "nbconvert_exporter": "python",
   "pygments_lexer": "ipython3",
   "version": "3.9.9"
  },
  "orig_nbformat": 4
 },
 "nbformat": 4,
 "nbformat_minor": 2
}
