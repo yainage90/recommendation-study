{
 "cells": [
  {
   "cell_type": "code",
   "execution_count": 1,
   "metadata": {},
   "outputs": [],
   "source": [
    "import os\n",
    "import sys\n",
    "\n",
    "sys.path.insert(0, f'{os.environ.get(\"HOME\")}/workspace/recommendation-study')"
   ]
  },
  {
   "cell_type": "code",
   "execution_count": 2,
   "metadata": {},
   "outputs": [],
   "source": [
    "from collections import defaultdict\n",
    "import numpy as np\n",
    "from util.models import Dataset, RecommendResult\n",
    "from base import BaseRecommender\n",
    "\n",
    "np.random.seed(0)"
   ]
  },
  {
   "cell_type": "code",
   "execution_count": 3,
   "metadata": {},
   "outputs": [],
   "source": [
    "class RandomRecommender(BaseRecommender):\n",
    "    def recommend(self, dataset: Dataset, k: int, **kwargs) -> RecommendResult:\n",
    "        unique_user_ids = sorted(dataset.test.user_id.unique())\n",
    "        unique_movie_ids = sorted(dataset.test.movie_id.unique())\n",
    "\n",
    "        user_id2index = {\n",
    "            user_id: index for index, user_id in enumerate(unique_user_ids)\n",
    "        }\n",
    "\n",
    "        movie_id2index = {\n",
    "            movie_id: index for index, movie_id in enumerate(unique_movie_ids)\n",
    "        }\n",
    "\n",
    "        pred_matrix = np.random.uniform(0.5, 5.0, (len(unique_user_ids), len(unique_movie_ids)))\n",
    "\n",
    "        pred_results = []\n",
    "        for _, row in dataset.test.iterrows():\n",
    "            user_id = row['user_id']\n",
    "            movie_id = row['movie_id']\n",
    "\n",
    "            user_index = user_id2index[user_id]\n",
    "            movie_index = movie_id2index[movie_id]\n",
    "\n",
    "            pred_score = pred_matrix[user_index, movie_index]\n",
    "            pred_results.append(pred_score)\n",
    "\n",
    "        movie_rating_predict = dataset.test.copy()\n",
    "        movie_rating_predict['rating_pred'] = pred_results\n",
    "\n",
    "        pred_user2items = defaultdict(list)\n",
    "\n",
    "        for user_id in unique_user_ids:\n",
    "            user_index = user_id2index[user_id]\n",
    "            movie_indices = np.argsort(-pred_matrix[user_index, :])\n",
    "            for movie_index in movie_indices:\n",
    "                movie_id = unique_movie_ids[movie_index]\n",
    "                pred_user2items[user_id].append(movie_id)\n",
    "                if len(pred_user2items[user_id]) >= k:\n",
    "                    break\n",
    "\n",
    "        return RecommendResult(movie_rating_predict.rating_pred, pred_user2items)"
   ]
  },
  {
   "cell_type": "code",
   "execution_count": 4,
   "metadata": {},
   "outputs": [
    {
     "name": "stdout",
     "output_type": "stream",
     "text": [
      "rmse: 1.901, precision@K: 0.002, recall@K: 0.005\n"
     ]
    }
   ],
   "source": [
    "RandomRecommender().run_sample()"
   ]
  }
 ],
 "metadata": {
  "kernelspec": {
   "display_name": "recommendation-study-kt-Z5Mpg",
   "language": "python",
   "name": "python3"
  },
  "language_info": {
   "codemirror_mode": {
    "name": "ipython",
    "version": 3
   },
   "file_extension": ".py",
   "mimetype": "text/x-python",
   "name": "python",
   "nbconvert_exporter": "python",
   "pygments_lexer": "ipython3",
   "version": "3.9.9"
  },
  "orig_nbformat": 4
 },
 "nbformat": 4,
 "nbformat_minor": 2
}
