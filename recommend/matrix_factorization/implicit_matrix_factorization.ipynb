{
 "cells": [
  {
   "cell_type": "markdown",
   "metadata": {},
   "source": [
    "암시적 평가에 대한 행렬 분해는 평가값이 명시적(ex. 넷플릭스의 별점, 상품 별점 등)이지 않은 경우에 대한 행렬 분해이다.\n",
    "암시적 평가의 예시로는 커머스의 상품 클릭, 구매 혹은 동영상 스트리밍에서 유저의 체류시간 등이 있다.\n",
    "\n",
    "암시적 평가 데이터를 활용한 MF 모델의 손실 함수는 명시적 피드백의 경우와 다름. 수식은 세우기 나름인데, 예를 들어 클릭 횟수가 1번 이상인 경우 평가값이 1, 아니면 0과 같으면서, 이러한 평가값에 대한 신뢰도를 모델링하는 항이 존재함. 클릭이 여러번일수록 신뢰도가 올라가고 유저의 해당 아이템에 대한 예측값이 1에 더 가까워지도록 모델링 하는게 일반적임. 이외에 정규화나 bias 등의 항은 추가하기 나름"
   ]
  },
  {
   "cell_type": "code",
   "execution_count": 2,
   "metadata": {},
   "outputs": [],
   "source": [
    "import os\n",
    "import sys\n",
    "\n",
    "sys.path.insert(0, f'{os.environ.get(\"HOME\")}/workspace/recommendation-study')"
   ]
  },
  {
   "cell_type": "code",
   "execution_count": 22,
   "metadata": {},
   "outputs": [],
   "source": [
    "from util.models import Dataset, RecommendResult\n",
    "from util.data import DataLoader\n",
    "from recommend.base import BaseRecommender\n",
    "from collections import defaultdict\n",
    "import numpy as np\n",
    "import implicit\n",
    "from scipy.sparse import csr_matrix\n",
    "np.random.seed(0)"
   ]
  },
  {
   "cell_type": "code",
   "execution_count": 10,
   "metadata": {},
   "outputs": [],
   "source": [
    "dataset = DataLoader().load()"
   ]
  },
  {
   "cell_type": "code",
   "execution_count": 23,
   "metadata": {},
   "outputs": [
    {
     "name": "stderr",
     "output_type": "stream",
     "text": [
      "/Users/vegeta/.local/share/virtualenvs/recommendation-study-kt-Z5Mpg/lib/python3.9/site-packages/scipy/sparse/_index.py:100: SparseEfficiencyWarning: Changing the sparsity structure of a csr_matrix is expensive. lil_matrix is more efficient.\n",
      "  self._set_intXint(row, col, x.flat[0])\n"
     ]
    },
    {
     "name": "stdout",
     "output_type": "stream",
     "text": [
      "  (0, 0)\t1.0\n",
      "  (0, 3)\t1.0\n",
      "  (0, 7)\t1.0\n",
      "  (0, 9)\t1.0\n",
      "  (0, 11)\t1.0\n",
      "  (0, 12)\t1.0\n",
      "  (0, 14)\t1.0\n",
      "  (0, 17)\t1.0\n",
      "  (0, 18)\t1.0\n",
      "  (0, 19)\t1.0\n",
      "  (0, 22)\t1.0\n",
      "  (0, 23)\t1.0\n",
      "  (0, 24)\t1.0\n",
      "  (0, 25)\t1.0\n",
      "  (0, 27)\t1.0\n",
      "  (0, 29)\t1.0\n",
      "  (0, 34)\t1.0\n",
      "  (0, 37)\t1.0\n",
      "  (0, 39)\t1.0\n",
      "  (0, 42)\t1.0\n",
      "  (0, 44)\t1.0\n",
      "  (0, 45)\t1.0\n",
      "  (0, 46)\t1.0\n",
      "  (0, 48)\t1.0\n",
      "  (0, 50)\t1.0\n",
      "  :\t:\n",
      "  (992, 1771)\t1.0\n",
      "  (992, 3571)\t1.0\n",
      "  (993, 694)\t1.0\n",
      "  (993, 961)\t1.0\n",
      "  (993, 1218)\t1.0\n",
      "  (993, 1362)\t1.0\n",
      "  (993, 2050)\t1.0\n",
      "  (993, 2178)\t1.0\n",
      "  (993, 2425)\t1.0\n",
      "  (994, 860)\t1.0\n",
      "  (994, 3082)\t1.0\n",
      "  (994, 3399)\t1.0\n",
      "  (994, 3548)\t1.0\n",
      "  (995, 1580)\t1.0\n",
      "  (995, 3253)\t1.0\n",
      "  (995, 3473)\t1.0\n",
      "  (995, 3549)\t1.0\n",
      "  (995, 4076)\t1.0\n",
      "  (995, 4670)\t1.0\n",
      "  (995, 4813)\t1.0\n",
      "  (995, 4814)\t1.0\n",
      "  (996, 1815)\t1.0\n",
      "  (996, 3394)\t1.0\n",
      "  (996, 3415)\t1.0\n",
      "  (996, 3637)\t1.0\n"
     ]
    }
   ],
   "source": [
    "factors = 10\n",
    "minimum_num_rating = 0\n",
    "n_epochs = 50\n",
    "alpha = 1.0\n",
    "\n",
    "train_data = dataset.train.groupby('movie_id').filter(lambda x: len(x['movie_id']) >= minimum_num_rating)\n",
    "high_rating_train_data = train_data[dataset.train.rating >= 4]\n",
    "\n",
    "unique_user_ids = high_rating_train_data.user_id.unique()\n",
    "unique_movie_ids = high_rating_train_data.movie_id.unique()\n",
    "\n",
    "user_id2index = {user_id: index for index, user_id in enumerate(unique_user_ids)}\n",
    "movie_id2index = {movie_id: index for index, movie_id in enumerate(unique_movie_ids)}\n",
    "\n",
    "matrix = csr_matrix((len(unique_user_ids), len(unique_movie_ids)))\n",
    "\n",
    "for i, row in high_rating_train_data.iterrows():\n",
    "    user_id = row['user_id']\n",
    "    movie_id = row['movie_id']\n",
    "    user_index = user_id2index[user_id]\n",
    "    movie_index = movie_id2index[movie_id]\n",
    "\n",
    "    matrix[user_index, movie_index] = 1.0 * alpha\n",
    "\n",
    "print(matrix)"
   ]
  },
  {
   "cell_type": "code",
   "execution_count": 26,
   "metadata": {},
   "outputs": [
    {
     "name": "stderr",
     "output_type": "stream",
     "text": [
      "100%|██████████| 50/50 [00:01<00:00, 43.16it/s, loss=0.0096] \n"
     ]
    },
    {
     "name": "stdout",
     "output_type": "stream",
     "text": [
      "(997, 10)\n",
      "[[1354    4   75 ...  618   30  508]\n",
      " [   7   73  132 ...   11 1322   18]\n",
      " [  22  132  593 ...  136   34   14]\n",
      " ...\n",
      " [  64  766   60 ...   56  278  529]\n",
      " [1232 1082  933 ...   43  479  481]\n",
      " [  64  766   63 ...  852   56 2740]]\n"
     ]
    }
   ],
   "source": [
    "model = implicit.als.AlternatingLeastSquares(\n",
    "    factors=factors,\n",
    "    iterations=n_epochs,\n",
    "    calculate_training_loss=True,\n",
    "    random_state=1,\n",
    ")\n",
    "model.fit(matrix)\n",
    "\n",
    "recommendations = model.recommend_all(matrix)\n",
    "print(recommendations.shape)\n",
    "print(recommendations)"
   ]
  },
  {
   "cell_type": "code",
   "execution_count": 33,
   "metadata": {},
   "outputs": [],
   "source": [
    "class IMFRecommender(BaseRecommender):\n",
    "    def recommend(self, dataset: Dataset, k: int, **kwargs) -> RecommendResult:\n",
    "        factors = kwargs.get('factors', 10)\n",
    "        minimum_num_rating = kwargs.get('minimum_num_rating', 0)\n",
    "        n_epochs = kwargs.get('n_epochs', 50)\n",
    "        alpha = kwargs.get('alpha', 1.0)\n",
    "\n",
    "        train_data = dataset.train.groupby('movie_id').filter(lambda x: len(x['movie_id']) >= minimum_num_rating)\n",
    "        high_rating_train_data = train_data[dataset.train.rating >= 4]\n",
    "\n",
    "        unique_user_ids = high_rating_train_data.user_id.unique()\n",
    "        unique_movie_ids = high_rating_train_data.movie_id.unique()\n",
    "\n",
    "        user_id2index = {user_id: index for index, user_id in enumerate(unique_user_ids)}\n",
    "        movie_id2index = {movie_id: index for index, movie_id in enumerate(unique_movie_ids)}\n",
    "\n",
    "        matrix = csr_matrix((len(unique_user_ids), len(unique_movie_ids)))\n",
    "\n",
    "        for i, row in high_rating_train_data.iterrows():\n",
    "            user_id = row['user_id']\n",
    "            movie_id = row['movie_id']\n",
    "            user_index = user_id2index[user_id]\n",
    "            movie_index = movie_id2index[movie_id]\n",
    "\n",
    "            matrix[user_index, movie_index] = 1.0 * alpha\n",
    "\n",
    "        model = implicit.als.AlternatingLeastSquares(\n",
    "            factors=factors,\n",
    "            iterations=n_epochs,\n",
    "            calculate_training_loss=True,\n",
    "            random_state=1,\n",
    "        )\n",
    "        model.fit(matrix)\n",
    "\n",
    "        recommendations = model.recommend_all(matrix)\n",
    "        pred_user2items = defaultdict(list)\n",
    "        for user_id, user_index in user_id2index.items():\n",
    "            movie_indices = recommendations[user_index]\n",
    "            pred_user2items[user_id] = [unique_movie_ids[movie_index] for movie_index in movie_indices]\n",
    "\n",
    "        return RecommendResult(dataset.test.rating, pred_user2items)"
   ]
  },
  {
   "cell_type": "code",
   "execution_count": 34,
   "metadata": {},
   "outputs": [
    {
     "name": "stderr",
     "output_type": "stream",
     "text": [
      "/Users/vegeta/.local/share/virtualenvs/recommendation-study-kt-Z5Mpg/lib/python3.9/site-packages/scipy/sparse/_index.py:100: SparseEfficiencyWarning: Changing the sparsity structure of a csr_matrix is expensive. lil_matrix is more efficient.\n",
      "  self._set_intXint(row, col, x.flat[0])\n",
      "100%|██████████| 50/50 [00:01<00:00, 49.09it/s, loss=0.0096] \n"
     ]
    },
    {
     "data": {
      "text/plain": [
       "rmse: 0.000, precision@K: 0.024, recall@K: 0.075"
      ]
     },
     "execution_count": 34,
     "metadata": {},
     "output_type": "execute_result"
    }
   ],
   "source": [
    "recommender = IMFRecommender()\n",
    "recommender.run_sample()"
   ]
  }
 ],
 "metadata": {
  "kernelspec": {
   "display_name": "recommendation-study-kt-Z5Mpg",
   "language": "python",
   "name": "python3"
  },
  "language_info": {
   "codemirror_mode": {
    "name": "ipython",
    "version": 3
   },
   "file_extension": ".py",
   "mimetype": "text/x-python",
   "name": "python",
   "nbconvert_exporter": "python",
   "pygments_lexer": "ipython3",
   "version": "3.9.9"
  },
  "orig_nbformat": 4
 },
 "nbformat": 4,
 "nbformat_minor": 2
}
