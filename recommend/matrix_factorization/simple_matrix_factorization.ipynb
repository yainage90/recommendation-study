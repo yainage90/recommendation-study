{
 "cells": [
  {
   "cell_type": "code",
   "execution_count": 1,
   "metadata": {},
   "outputs": [],
   "source": [
    "import os\n",
    "import sys\n",
    "\n",
    "sys.path.insert(0, f'{os.environ.get(\"HOME\")}/workspace/recommendation-study')"
   ]
  },
  {
   "cell_type": "code",
   "execution_count": 2,
   "metadata": {},
   "outputs": [],
   "source": [
    "from util.data import DataLoader\n",
    "\n",
    "dataset = DataLoader().load()"
   ]
  },
  {
   "cell_type": "code",
   "execution_count": 3,
   "metadata": {},
   "outputs": [
    {
     "name": "stdout",
     "output_type": "stream",
     "text": [
      "사용자 수=1000, 아이템 수=6673, 밀도=0.019\n"
     ]
    }
   ],
   "source": [
    "user_movie_matrix = dataset.train.pivot(index='user_id', columns='movie_id', values='rating')\n",
    "user_num = len(user_movie_matrix.index)\n",
    "item_num = len(user_movie_matrix.columns)\n",
    "non_null_num = user_num * item_num - user_movie_matrix.isnull().sum().sum()\n",
    "\n",
    "non_null_ratio = non_null_num / (user_num * item_num)\n",
    "\n",
    "print(f'사용자 수={user_num}, 아이템 수={item_num}, 밀도={non_null_ratio:.3f}')"
   ]
  },
  {
   "cell_type": "markdown",
   "metadata": {},
   "source": [
    "1. 행렬분해 방식으로 SVD를 적용\n",
    "2. 결손값을 0 혹은 평가값의 평균으로 치환"
   ]
  },
  {
   "cell_type": "code",
   "execution_count": 4,
   "metadata": {},
   "outputs": [
    {
     "data": {
      "text/plain": [
       "array([[3.57479074, 3.57479074, 3.57479074, ..., 3.57479074, 3.57479074,\n",
       "        3.57479074],\n",
       "       [3.57479074, 3.57479074, 3.57479074, ..., 3.57479074, 3.57479074,\n",
       "        3.57479074],\n",
       "       [3.57479074, 3.57479074, 3.57479074, ..., 3.57479074, 3.57479074,\n",
       "        3.57479074],\n",
       "       ...,\n",
       "       [5.        , 3.57479074, 3.        , ..., 3.57479074, 3.57479074,\n",
       "        3.57479074],\n",
       "       [3.57479074, 3.57479074, 3.57479074, ..., 3.57479074, 3.57479074,\n",
       "        3.57479074],\n",
       "       [5.        , 3.57479074, 3.57479074, ..., 3.57479074, 3.57479074,\n",
       "        3.57479074]])"
      ]
     },
     "execution_count": 4,
     "metadata": {},
     "output_type": "execute_result"
    }
   ],
   "source": [
    "import scipy\n",
    "import numpy as np\n",
    "\n",
    "matrix = user_movie_matrix.fillna(dataset.train.rating.mean()).to_numpy()\n",
    "matrix"
   ]
  },
  {
   "cell_type": "code",
   "execution_count": 5,
   "metadata": {},
   "outputs": [
    {
     "name": "stdout",
     "output_type": "stream",
     "text": [
      "P: (1000, 5), S: (5,), Qt: (5, 6673), pred_matrix: (1000, 6673)\n"
     ]
    }
   ],
   "source": [
    "P, S, Qt = scipy.sparse.linalg.svds(matrix, k=5) # 인자 수가 5개인 유저/아이템 행렬\n",
    "\n",
    "pred_matrix = np.dot(np.dot(P, np.diag(S)), Qt)\n",
    "\n",
    "print(f'P: {P.shape}, S: {S.shape}, Qt: {Qt.shape}, pred_matrix: {pred_matrix.shape}')"
   ]
  },
  {
   "cell_type": "code",
   "execution_count": 6,
   "metadata": {},
   "outputs": [],
   "source": [
    "from pandas import DataFrame\n",
    "from sklearn.decomposition import NMF\n",
    "\n",
    "# Singular Value Decomposition\n",
    "def svd(matrix: DataFrame, factors: int):\n",
    "    P, S, Qt = scipy.sparse.linalg.svds(matrix, k=factors)\n",
    "    pred_matrix = np.dot(np.dot(P, np.diag(S)), Qt)\n",
    "    return pred_matrix\n",
    "\n",
    "# Nonnegative Matrix Factorization\n",
    "def nmf(matrix: DataFrame, factors: int):\n",
    "    nmf = NMF(n_components=factors)\n",
    "    nmf.fit(matrix)\n",
    "    P = nmf.fit_transform(matrix)\n",
    "    Q = nmf.components_\n",
    "    pred_matrix = np.dot(P, Q)\n",
    "    return pred_matrix"
   ]
  },
  {
   "cell_type": "code",
   "execution_count": 7,
   "metadata": {},
   "outputs": [],
   "source": [
    "from collections import defaultdict\n",
    "from util.models import RecommendResult, Dataset\n",
    "from recommend.base import BaseRecommender\n",
    "\n",
    "class MFRecommender(BaseRecommender):\n",
    "    def recommend(self, dataset: Dataset, k: int, **kwargs) -> RecommendResult:\n",
    "        fillna_with_zero = kwargs.get('fillna_with_zero', True)\n",
    "        factors = kwargs.get('factors', 10)\n",
    "\n",
    "        user_movie_matrix = dataset.train.pivot(index='user_id', columns='movie_id', values='rating')\n",
    "        user_id2index = {user_id: index for index, user_id in enumerate(user_movie_matrix.index)}\n",
    "        movie_id2index = {movie_id: index for index, movie_id in enumerate(user_movie_matrix.columns)}\n",
    "        movie_index2id = {index: movie_id for movie_id, index in movie_id2index.items()}\n",
    "\n",
    "        average_score = dataset.train.rating.mean()\n",
    "        if fillna_with_zero:\n",
    "            matrix = user_movie_matrix.fillna(0).to_numpy()\n",
    "        else:\n",
    "            matrix = user_movie_matrix.fillna(average_score).to_numpy()\n",
    "\n",
    "        factorizer = kwargs.get(\"factorizer\")\n",
    "        pred_matrix = factorizer(matrix, factors=factors)\n",
    "\n",
    "        movie_rating_predict = dataset.test.copy()\n",
    "        pred_results = []\n",
    "        for _, row in dataset.test.iterrows():\n",
    "            user_id = row['user_id']\n",
    "            movie_id = row['movie_id']\n",
    "\n",
    "            if not (user_id in user_id2index and movie_id in movie_id2index):\n",
    "                pred_results.append(average_score)\n",
    "                continue\n",
    "                \n",
    "            user_index = user_id2index[user_id]\n",
    "            movie_index = movie_id2index[movie_id]\n",
    "            pred_score = pred_matrix[user_index, movie_index]\n",
    "            pred_results.append(pred_score)\n",
    "\n",
    "        movie_rating_predict['rating_pred'] = pred_results\n",
    "\n",
    "        pred_user2items = defaultdict(list)\n",
    "        user_evaluated_movies = dataset.train.groupby('user_id').agg({'movie_id': list})['movie_id'].to_dict()\n",
    "\n",
    "        for user_id in dataset.train.user_id.unique():\n",
    "            user_index = user_id2index[user_id]\n",
    "            movie_indices = np.argsort(-pred_matrix[user_index, :])\n",
    "            for movie_index in movie_indices:\n",
    "                movie_id = movie_index2id[movie_index]\n",
    "                if movie_id not in user_evaluated_movies[user_id]:\n",
    "                    pred_user2items[user_id].append(movie_id)\n",
    "                if len(pred_user2items[user_id])>= k:\n",
    "                    break\n",
    "\n",
    "        return RecommendResult(movie_rating_predict.rating_pred, pred_user2items)"
   ]
  },
  {
   "cell_type": "code",
   "execution_count": 8,
   "metadata": {},
   "outputs": [
    {
     "name": "stdout",
     "output_type": "stream",
     "text": [
      "rmse: 3.274, precision@K: 0.027, recall@K: 0.084\n"
     ]
    }
   ],
   "source": [
    "recommender = MFRecommender()\n",
    "metrics = recommender.run_sample(fillna_with_zero=True, factors=10, factorizer=svd)\n",
    "print(metrics)"
   ]
  },
  {
   "cell_type": "code",
   "execution_count": 9,
   "metadata": {},
   "outputs": [
    {
     "name": "stdout",
     "output_type": "stream",
     "text": [
      "rmse: 1.042, precision@K: 0.021, recall@K: 0.067\n"
     ]
    }
   ],
   "source": [
    "recommender = MFRecommender()\n",
    "metrics = recommender.run_sample(fillna_with_zero=False, factors=10, factorizer=svd)\n",
    "print(metrics)"
   ]
  },
  {
   "cell_type": "code",
   "execution_count": 10,
   "metadata": {},
   "outputs": [
    {
     "name": "stdout",
     "output_type": "stream",
     "text": [
      "rmse: 3.343, precision@K: 0.029, recall@K: 0.093\n"
     ]
    }
   ],
   "source": [
    "recommender = MFRecommender()\n",
    "metrics = recommender.run_sample(fillna_with_zero=True, factors=100, factorizer=svd)\n",
    "print(metrics)"
   ]
  },
  {
   "cell_type": "code",
   "execution_count": 11,
   "metadata": {},
   "outputs": [
    {
     "name": "stdout",
     "output_type": "stream",
     "text": [
      "rmse: 1.044, precision@K: 0.023, recall@K: 0.074\n"
     ]
    }
   ],
   "source": [
    "recommender = MFRecommender()\n",
    "metrics = recommender.run_sample(fillna_with_zero=False, factors=100, factorizer=svd)\n",
    "print(metrics)"
   ]
  },
  {
   "cell_type": "code",
   "execution_count": 12,
   "metadata": {},
   "outputs": [
    {
     "name": "stdout",
     "output_type": "stream",
     "text": [
      "rmse: 3.290, precision@K: 0.025, recall@K: 0.080\n"
     ]
    }
   ],
   "source": [
    "recommender = MFRecommender()\n",
    "metrics = recommender.run_sample(fillna_with_zero=True, factors=10, factorizer=nmf)\n",
    "print(metrics)"
   ]
  },
  {
   "cell_type": "code",
   "execution_count": 13,
   "metadata": {},
   "outputs": [
    {
     "name": "stdout",
     "output_type": "stream",
     "text": [
      "rmse: 1.053, precision@K: 0.016, recall@K: 0.050\n"
     ]
    }
   ],
   "source": [
    "recommender = MFRecommender()\n",
    "metrics = recommender.run_sample(fillna_with_zero=False, factors=10, factorizer=nmf)\n",
    "print(metrics)"
   ]
  },
  {
   "cell_type": "code",
   "execution_count": 14,
   "metadata": {},
   "outputs": [
    {
     "name": "stderr",
     "output_type": "stream",
     "text": [
      "/Users/vegeta/.local/share/virtualenvs/recommendation-study-kt-Z5Mpg/lib/python3.9/site-packages/sklearn/decomposition/_nmf.py:1710: ConvergenceWarning: Maximum number of iterations 200 reached. Increase it to improve convergence.\n",
      "  warnings.warn(\n"
     ]
    },
    {
     "name": "stdout",
     "output_type": "stream",
     "text": [
      "rmse: 3.306, precision@K: 0.028, recall@K: 0.091\n"
     ]
    }
   ],
   "source": [
    "recommender = MFRecommender()\n",
    "metrics = recommender.run_sample(fillna_with_zero=True, factors=100, factorizer=nmf)\n",
    "print(metrics)"
   ]
  },
  {
   "cell_type": "code",
   "execution_count": 15,
   "metadata": {},
   "outputs": [
    {
     "name": "stdout",
     "output_type": "stream",
     "text": [
      "rmse: 1.081, precision@K: 0.013, recall@K: 0.042\n"
     ]
    }
   ],
   "source": [
    "recommender = MFRecommender()\n",
    "metrics = recommender.run_sample(fillna_with_zero=False, factors=100, factorizer=nmf)\n",
    "print(metrics)"
   ]
  }
 ],
 "metadata": {
  "kernelspec": {
   "display_name": "recommendation-study-kt-Z5Mpg",
   "language": "python",
   "name": "python3"
  },
  "language_info": {
   "codemirror_mode": {
    "name": "ipython",
    "version": 3
   },
   "file_extension": ".py",
   "mimetype": "text/x-python",
   "name": "python",
   "nbconvert_exporter": "python",
   "pygments_lexer": "ipython3",
   "version": "3.9.9"
  },
  "orig_nbformat": 4
 },
 "nbformat": 4,
 "nbformat_minor": 2
}
