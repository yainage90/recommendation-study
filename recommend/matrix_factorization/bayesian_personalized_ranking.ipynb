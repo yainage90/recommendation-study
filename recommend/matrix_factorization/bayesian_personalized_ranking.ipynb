{
 "cells": [
  {
   "cell_type": "code",
   "execution_count": 1,
   "metadata": {},
   "outputs": [],
   "source": [
    "import os\n",
    "import sys\n",
    "\n",
    "sys.path.insert(0, f'{os.environ.get(\"HOME\")}/workspace/recommendation-study')"
   ]
  },
  {
   "cell_type": "code",
   "execution_count": 3,
   "metadata": {},
   "outputs": [],
   "source": [
    "from util.data import DataLoader\n",
    "from util.models import RecommendResult, Dataset\n",
    "from recommend.base import BaseRecommender\n",
    "from collections import defaultdict\n",
    "import numpy as np\n",
    "import implicit\n",
    "from scipy.sparse import csr_matrix\n",
    "np.random.seed(0)"
   ]
  },
  {
   "cell_type": "code",
   "execution_count": 4,
   "metadata": {},
   "outputs": [],
   "source": [
    "dataset = DataLoader().load()"
   ]
  },
  {
   "cell_type": "code",
   "execution_count": 6,
   "metadata": {},
   "outputs": [
    {
     "name": "stderr",
     "output_type": "stream",
     "text": [
      "/Users/vegeta/.local/share/virtualenvs/recommendation-study-kt-Z5Mpg/lib/python3.9/site-packages/scipy/sparse/_index.py:100: SparseEfficiencyWarning: Changing the sparsity structure of a csr_matrix is expensive. lil_matrix is more efficient.\n",
      "  self._set_intXint(row, col, x.flat[0])\n",
      "100%|██████████| 50/50 [00:00<00:00, 118.51it/s, train_auc=82.88%, skipped=17.25%]\n"
     ]
    },
    {
     "name": "stdout",
     "output_type": "stream",
     "text": [
      "(997, 10)\n",
      "[[ 566  119  318 ...  517  481  592]\n",
      " [ 483  480  296 ...  433  392  119]\n",
      " [1235 2045 1984 ...  433  262 1667]\n",
      " ...\n",
      " [ 262  296  433 ...  487   32  375]\n",
      " [ 296  262 1235 ...  188 1942   91]\n",
      " [1830 1902  953 ... 2141 1536 1425]]\n"
     ]
    }
   ],
   "source": [
    "factors = 10\n",
    "minimum_num_rating = 0\n",
    "n_epochs = 50\n",
    "\n",
    "train_dataset = dataset.train.groupby('movie_id').filter(lambda x: len(x['movie_id']) >= minimum_num_rating)\n",
    "high_rating_dataset = train_dataset[dataset.train.rating >= 4]\n",
    "unique_user_ids = list(sorted(high_rating_dataset.user_id.unique()))\n",
    "unique_movie_ids = list(sorted(high_rating_dataset.movie_id.unique()))\n",
    "user_id2index = {user_id: index for index, user_id in enumerate(unique_user_ids)}\n",
    "movie_id2index = {movie_id: index for index, movie_id in enumerate(unique_movie_ids)}\n",
    "\n",
    "matrix = csr_matrix((len(unique_user_ids), len(unique_movie_ids)))\n",
    "\n",
    "for i, row in high_rating_dataset.iterrows():\n",
    "    user_index = user_id2index[row['user_id']]\n",
    "    movie_index = movie_id2index[row['movie_id']]\n",
    "    matrix[user_index, movie_index] = 1.0\n",
    "\n",
    "model = implicit.bpr.BayesianPersonalizedRanking(\n",
    "    factors=factors, iterations=n_epochs\n",
    ")\n",
    "\n",
    "model.fit(matrix)\n",
    "\n",
    "recommendations = model.recommend_all(matrix)\n",
    "print(recommendations.shape)\n",
    "print(recommendations)"
   ]
  },
  {
   "cell_type": "code",
   "execution_count": 7,
   "metadata": {},
   "outputs": [],
   "source": [
    "class BPRRecommender(BaseRecommender):\n",
    "    def recommend(self, dataset: Dataset, k: int, **kwargs) -> RecommendResult:\n",
    "        factors = kwargs.get('factors', 10)\n",
    "        minimum_num_rating = kwargs.get('minimum_num_rating', 0)\n",
    "        n_epochs = kwargs.get('n_epochs', 50)\n",
    "\n",
    "        train_dataset = dataset.train.groupby('movie_id').filter(lambda x: len(x['movie_id']) >= minimum_num_rating)\n",
    "        high_rating_dataset = train_dataset[dataset.train.rating >= 4]\n",
    "        unique_user_ids = list(sorted(high_rating_dataset.user_id.unique()))\n",
    "        unique_movie_ids = list(sorted(high_rating_dataset.movie_id.unique()))\n",
    "        user_id2index = {user_id: index for index, user_id in enumerate(unique_user_ids)}\n",
    "        movie_id2index = {movie_id: index for index, movie_id in enumerate(unique_movie_ids)}\n",
    "\n",
    "        matrix = csr_matrix((len(unique_user_ids), len(unique_movie_ids)))\n",
    "\n",
    "        for i, row in high_rating_dataset.iterrows():\n",
    "            user_index = user_id2index[row['user_id']]\n",
    "            movie_index = movie_id2index[row['movie_id']]\n",
    "            matrix[user_index, movie_index] = 1.0\n",
    "\n",
    "        model = implicit.bpr.BayesianPersonalizedRanking(\n",
    "            factors=factors, iterations=n_epochs\n",
    "        )\n",
    "\n",
    "        model.fit(matrix)\n",
    "\n",
    "        recommendations = model.recommend_all(matrix)\n",
    "\n",
    "        pred_user2items = defaultdict(list)\n",
    "\n",
    "        for user_id, user_index in user_id2index.items():\n",
    "            movie_indices = recommendations[user_index, :]\n",
    "            pred_user2items[user_id] = [unique_movie_ids[movie_index] for movie_index in movie_indices]\n",
    "        \n",
    "        return RecommendResult(dataset.test.rating, pred_user2items)"
   ]
  },
  {
   "cell_type": "code",
   "execution_count": 9,
   "metadata": {},
   "outputs": [
    {
     "name": "stderr",
     "output_type": "stream",
     "text": [
      "/Users/vegeta/.local/share/virtualenvs/recommendation-study-kt-Z5Mpg/lib/python3.9/site-packages/scipy/sparse/_index.py:100: SparseEfficiencyWarning: Changing the sparsity structure of a csr_matrix is expensive. lil_matrix is more efficient.\n",
      "  self._set_intXint(row, col, x.flat[0])\n",
      "100%|██████████| 50/50 [00:00<00:00, 121.50it/s, train_auc=82.81%, skipped=17.44%]\n"
     ]
    },
    {
     "name": "stdout",
     "output_type": "stream",
     "text": [
      "rmse: 0.000, precision@K: 0.021, recall@K: 0.067\n"
     ]
    }
   ],
   "source": [
    "recommender = BPRRecommender()\n",
    "metrics = recommender.run_sample()\n",
    "print(metrics)"
   ]
  },
  {
   "cell_type": "code",
   "execution_count": 10,
   "metadata": {},
   "outputs": [
    {
     "name": "stderr",
     "output_type": "stream",
     "text": [
      "/var/folders/61/z_y23ln573b2r1g8y664sldc0000gn/T/ipykernel_13620/2750065460.py:8: UserWarning: Boolean Series key will be reindexed to match DataFrame index.\n",
      "  high_rating_dataset = train_dataset[dataset.train.rating >= 4]\n",
      "/Users/vegeta/.local/share/virtualenvs/recommendation-study-kt-Z5Mpg/lib/python3.9/site-packages/scipy/sparse/_index.py:100: SparseEfficiencyWarning: Changing the sparsity structure of a csr_matrix is expensive. lil_matrix is more efficient.\n",
      "  self._set_intXint(row, col, x.flat[0])\n",
      "100%|██████████| 50/50 [00:00<00:00, 402.12it/s, train_auc=80.72%, skipped=26.73%]"
     ]
    },
    {
     "name": "stdout",
     "output_type": "stream",
     "text": [
      "rmse: 0.000, precision@K: 0.021, recall@K: 0.064\n"
     ]
    },
    {
     "name": "stderr",
     "output_type": "stream",
     "text": [
      "\n"
     ]
    }
   ],
   "source": [
    "recommender = BPRRecommender()\n",
    "metrics = recommender.run_sample(minimum_num_rating=100)\n",
    "print(metrics)"
   ]
  }
 ],
 "metadata": {
  "kernelspec": {
   "display_name": "recommendation-study-kt-Z5Mpg",
   "language": "python",
   "name": "python3"
  },
  "language_info": {
   "codemirror_mode": {
    "name": "ipython",
    "version": 3
   },
   "file_extension": ".py",
   "mimetype": "text/x-python",
   "name": "python",
   "nbconvert_exporter": "python",
   "pygments_lexer": "ipython3",
   "version": "3.9.9"
  },
  "orig_nbformat": 4
 },
 "nbformat": 4,
 "nbformat_minor": 2
}
